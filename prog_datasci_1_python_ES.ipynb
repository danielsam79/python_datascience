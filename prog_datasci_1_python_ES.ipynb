{
  "cells": [
    {
      "cell_type": "markdown",
      "metadata": {
        "id": "view-in-github",
        "colab_type": "text"
      },
      "source": [
        "<a href=\"https://colab.research.google.com/github/danielsam79/python_datascience/blob/master/prog_datasci_1_python_ES.ipynb\" target=\"_parent\"><img src=\"https://colab.research.google.com/assets/colab-badge.svg\" alt=\"Open In Colab\"/></a>"
      ]
    },
    {
      "cell_type": "markdown",
      "id": "b0e8230f-5713-413f-b369-d3f1bfdc8e94",
      "metadata": {
        "id": "b0e8230f-5713-413f-b369-d3f1bfdc8e94"
      },
      "source": [
        "<div style=\"width: 100%; clear: both;\">\n",
        "    <div style=\"float: left; width: 50%;\">\n",
        "       <img src=\"http://www.uoc.edu/portal/_resources/common/imatges/marca_UOC/UOC_Masterbrand.jpg\", align=\"left\">\n",
        "    </div>\n",
        "</div>\n",
        "\n",
        "<div style=\"float: right; width: 50%;\">\n",
        "    <p style=\"margin: 0; padding-top: 22px; text-align:right;\">22.401 · Fundamentos de Programación</p>\n",
        "    <p style=\"margin: 0; text-align:right;\">Grado en Ciencia de Datos Aplicados</p>\n",
        "    <p style=\"margin: 0; text-align:right; padding-button: 100px;\">Estudios de Informática, Multimedia y Telecomunicación</p>\n",
        "</div>\n",
        "\n",
        "</div>\n",
        "<div style=\"width: 100%; clear: both;\">\n",
        "<div style=\"width:100%;\">&nbsp;</div>"
      ]
    },
    {
      "cell_type": "markdown",
      "id": "bqBSdLrzJ_J2",
      "metadata": {
        "id": "bqBSdLrzJ_J2"
      },
      "source": [
        "# **1. Fundamentos de programación**\n",
        "## **1.1. PEC1 - Introducción a Python**\n",
        "En este Notebook encontraréis el conjunto de actividades evaluables como práctica de la asignatura.\n",
        "Cada actividad tiene asociada una puntuación, que indica el peso que tiene sobre la nota final de la\n",
        "práctica. Adicionalmente, hay un ejercicio opcional, que no tiene puntuación dentro de la PEC, pero que se valora al final del semestre de cara a conceder las matrículas de honor y redondear las notas finales. Podréis sacar la máxima nota de la PEC sin necesidad de hacer este ejercicio. El objetivo de este ejercicio es que sirva como pequeño reto para los estudiantes que quieran profundizar en el contenido de la asignatura.\n",
        "\n",
        "Todas las actividades de la práctica tienen una etiqueta que indica los recursos necesarios para llevarla\n",
        "a cabo. Hay tres posibles etiquetas:\n",
        "\n",
        "* <font color=green>NM</font> **Sólo materiales**: la actividad puede resolverse con los recursos de\n",
        "la asignatura.\n",
        "* <font color=orange>EG</font> **Consulta externa guiada**: la actividad puede requerir hacer uso de herramientas que no se\n",
        "encuentran en los materiales de la asignatura, pero el enunciado contiene indicaciones de dónde\n",
        "o cómo encontrar la información adicional necesaria para resolver la actividad.\n",
        "* <font color=red>EI</font> **Consulta externa independiente**: la actividad puede requerir hacer uso de herramientas que no se encuentran en los materiales de la asignatura, y el enunciado puede no incluir la descripción de dónde o cómo encontrar esta información adicional. Será necesario que el estudiante busque esta información utilizando los recursos que se han explicado en la asignatura.\n",
        "\n",
        "Estas etiquetas no indican el nivel de dificultad, sino únicamente la necesidad de consulta de documentación externa para su resolución.\n",
        "\n",
        "Recordad que siempre podéis consultar documentación externa si lo deseáis, aunque la etiqueta no lo indique, ya sea para resolver la actividad o ampliar vuestros conocimientos.\n",
        "\n",
        "En cualquier caso, cuando uséis documentación externa, citad siempre la bibliografía o recursos consultados para resolver cada actividad.\n",
        "__________________________\n",
        "**Nota sobre la originalidad**\n",
        "\n",
        "Es fundamental que todas las soluciones que entreguéis procedan de vuestro trabajo individual. Podéis inspiraros en materiales externos, pero debéis adaptarlos, comprenderlos y citarlos correctamente.\n",
        "\n",
        "Los enunciados pueden incorporar tecnología de detección de respuestas generadas con LLMs. En caso de que, mediante estos sistemas o por sospecha del profesor, se detecte una posible copia con IA generativa, se podrá solicitar al estudiante que explique el código presentado. Si no puede demostrar su autoría ni la comprensión del código, el ejercicio será calificado con un 0.\n",
        "\n",
        "La copia literal de código o respuestas de fuentes externas, así como la colaboración no autorizada entre estudiantes, será considerada una falta de originalidad.\n",
        "\n",
        "El objetivo de la práctica es que desarrolléis vuestras propias habilidades de programación en Python.\n",
        "__________________________\n"
      ]
    },
    {
      "cell_type": "markdown",
      "id": "e69d5438",
      "metadata": {
        "id": "e69d5438"
      },
      "source": [
        "\n",
        "### Ejercicio 1  \n",
        "Considerando las tres variables siguientes `a = 5, b = 12, c = 5`, escribe las siguientes operaciones lógicas y muestra el resultado por pantalla:\n",
        "1. ¿a es igual a c y b mayor que a?  \n",
        "2. ¿a es diferente de b o b es menor que c?  \n",
        "3. ¿a más c es mayor o igual que b?\n",
        "\n",
        "***(1 punto)*** <font color=green>NM</font>"
      ]
    },
    {
      "cell_type": "code",
      "execution_count": null,
      "id": "78e6af81",
      "metadata": {
        "id": "78e6af81"
      },
      "outputs": [],
      "source": [
        "# Ejercicio 1\n",
        "\n",
        "# Definimos las variables a, b y c con los valores indicados en el enunciado.\n",
        "a, b, c = 5, 12, 5\n",
        "\n",
        "# Realizamos las operaciones lógicas solicitadas en cada punto y mostramos\n",
        "# el resultado de cada operación por pantalla.\n",
        "print(\"1. ¿a es igual a c y b mayor que a?:\", (a == c) and (b > a))\n",
        "print(\"2. ¿a es diferente de b o b es menor que c?:\", (a != b) or (b < c))\n",
        "print(\"3. ¿a más c es mayor o igual que b?:\", (a + c) >= b)"
      ]
    },
    {
      "cell_type": "markdown",
      "id": "3c77cda6",
      "metadata": {
        "id": "3c77cda6"
      },
      "source": [
        "\n",
        "### Ejercicio 2  \n",
        "Define la función `double(x)` que reciba un número entero y devuelva el doble de su valor.  \n",
        "Después, crea la función `sumaDobles(a, b)` que:  \n",
        "- calcule el doble de `a` y `b` usando la función anterior.  \n",
        "- devuelva la suma de ambos.  \n",
        "\n",
        "Prueba tu función con los números: 3 y 7.\n",
        "\n",
        "***(1.5 puntos)*** <font color=orange>EG</font>"
      ]
    },
    {
      "cell_type": "code",
      "execution_count": null,
      "id": "84d0ded1",
      "metadata": {
        "id": "84d0ded1"
      },
      "outputs": [],
      "source": [
        "# Ejercicio 2. Para este ejercicio he usado la documentación oficial de Python 3.14.0\n",
        "# a través de la web: https://docs.python.org/es/3/tutorial/controlflow.html#defining-functions\n",
        "\n",
        "# Definimos una función llamada 'double' que recibe un entero 'x' y devuelve el doble de su valor.\n",
        "def double(x):\n",
        "    return x * 2\n",
        "\n",
        "# Definimos una función llamada 'sumaDobles' que recibe dos números enteros 'a' y 'b', invoca la función\n",
        "# 'double' para devolver el doble de cada valor y devuelve la suma de ambos valores calculados.\n",
        "def sumaDobles(a, b):\n",
        "    return double(a) + double(b)\n",
        "\n",
        "# Llamamos a la función sumaDobles con los valores 3 y 7 y mostramos por pantalla el resultado obtenido\n",
        "print(\"El valor de la suma de los valores dobles de 3 y 7 es:\", sumaDobles(3, 7))"
      ]
    },
    {
      "cell_type": "markdown",
      "id": "35d6f591",
      "metadata": {
        "id": "35d6f591"
      },
      "source": [
        "\n",
        "### Ejercicio 3  \n",
        "Crea una función `ocultar_vocales(texto)` que reciba una cadena y devuelva otra en la que todas las vocales (a, e, i, o , u) se sustituyan por un guion bajo `_`.\n",
        "\n",
        "Importante:\n",
        "\n",
        "* Las vocales con acento o con diéresis (à, á, è, é, í, ï, ò, ó, ú, ü) también se tienen que considerar vocales y sustituirse por `_`.\n",
        "* La función tiene que mantener el resto de caracteres (consonantes, números, signos de puntuación, espacios, etc.) sin cambios.\n"
      ]
    },
    {
      "cell_type": "code",
      "execution_count": null,
      "id": "XYjKKUkGTd2q",
      "metadata": {
        "id": "XYjKKUkGTd2q"
      },
      "outputs": [],
      "source": [
        "#Ejemplo:\n",
        "\n",
        "Entrada: \"Programar en Python\"\n",
        "Salida: \"Pr_gr_m_r _n Pyth_n\""
      ]
    },
    {
      "cell_type": "markdown",
      "id": "P3UOpyaBTm4B",
      "metadata": {
        "id": "P3UOpyaBTm4B"
      },
      "source": [
        "Para probar si el código funciona bien, usa algunos de estos ejemplos:\n",
        "\n",
        "* Python es un lenguaje de programación.\n",
        "* Las variables pueden guardar información.\n",
        "* Un ordenador solo entiende ceros y unos.\n",
        "\n",
        "***(1.5 puntos)*** <font color=orange>EG</font>"
      ]
    },
    {
      "cell_type": "code",
      "execution_count": null,
      "id": "829adcd4",
      "metadata": {
        "id": "829adcd4"
      },
      "outputs": [],
      "source": [
        "# Ejercicio 3. Para este ejercicio he usado la documentación oficial de Python 3.14.0\n",
        "# a través de la web: https://docs.python.org/es/3/tutorial/controlflow.html#for-statements\n",
        "\n",
        "# Primero definimos una función llamada 'ocultar_vocales' que recibe una frase.\n",
        "# Creamos una variable llamada 'vocales' que contiene todas las vocales a comprobar.\n",
        "# Definimos una variable tipo string vacia llamada 'resultado' para almacenar la frase final resultante.\n",
        "# La función va recorriendo la frase letra a letra mediante el uso de la sentencia for,\n",
        "# sustituyendo cada aparición de una vocal incluida en la lista 'vocales' por '_' o\n",
        "# copiando dicha letra si no es una vocal. La frase final se va almacenando en la variable 'resultado'\n",
        "# que es la frase sustituida que devuelve la función.\n",
        "def ocultar_vocales(frase):\n",
        "    vocales = \"aeiouáéíóúàèïòüAEIOUÁÉÍÓÚÀÈÏÒÜ\"\n",
        "    resultado = \"\"\n",
        "    for letra in frase:\n",
        "        if letra in vocales:\n",
        "            resultado += \"_\"\n",
        "        else:\n",
        "            resultado += letra\n",
        "    return resultado\n",
        "\n",
        "# Creamos varias cadenas de texto como ejemplos para poner a prueba la función.\n",
        "ejemplo1 = \"Python es un lenguaje de programación.\"\n",
        "ejemplo2 = \"Las variables pueden guardar información.\"\n",
        "ejemplo3 = \"Un ordenador solo entiende ceros y unos.\"\n",
        "ejemplo4 = \"Ahora vamos a poner a prueba este código con un 4º ejemplo aleatorio.\"\n",
        "\n",
        "# Mostramos por pantalla como Entrada cada ejemplo y como Salida el resultado obtenido al llamar\n",
        "# a la función 'ocultar_vocales' para cada uno de los ejemplos.\n",
        "\n",
        "print(\"Entrada:\", ejemplo1)\n",
        "print(\"Salida: \", ocultar_vocales(ejemplo1),\"\\n\")\n",
        "print(\"Entrada:\", ejemplo2)\n",
        "print(\"Salida: \", ocultar_vocales(ejemplo2),\"\\n\")\n",
        "print(\"Entrada:\", ejemplo3)\n",
        "print(\"Salida: \", ocultar_vocales(ejemplo3),\"\\n\")\n",
        "print(\"Entrada:\", ejemplo4)\n",
        "print(\"Salida: \", ocultar_vocales(ejemplo4),\"\\n\")"
      ]
    },
    {
      "cell_type": "markdown",
      "id": "39e1211f",
      "metadata": {
        "id": "39e1211f"
      },
      "source": [
        "### Ejercicio 4  \n",
        "Dada la lista de frutas:  \n",
        "\n",
        "```\n",
        "frutas = [\"manzana\", \"plátano\", \"cereza\", \"pera\", \"plátano\", \"uva\", \"kiwi\"]\n",
        "```\n",
        "\n",
        "Proporciona expresiones que devuelvan:  \n",
        "1. El número de veces que aparece \"plátano\".  \n",
        "2. El índice de la primera aparición de \"cereza\".  \n",
        "3. Una nueva lista con las tres últimas frutas.  \n",
        "4. La lista ordenada alfabéticamente sin modificar la lista original.\n",
        "\n",
        "***(1.5 puntos)*** <font color=green>NM</font>\n"
      ]
    },
    {
      "cell_type": "code",
      "source": [
        "# Ejercicio 4\n",
        "\n",
        "# Creamos una lista llamada 'frutas' según la lista dada en el enunciado.\n",
        "frutas = [\"manzana\", \"plátano\", \"cereza\", \"pera\", \"plátano\", \"uva\", \"kiwi\"]\n",
        "\n",
        "# Usamos el método de Python .count() para contar el número de veces que aparece\n",
        "# la palabra \"plátano\" en la lista 'frutas' y lo mostramos por pantalla.\n",
        "print(\"1. El número de veces que aparece \\\"plátano\\\" es:\", frutas.count(\"plátano\"))\n",
        "\n",
        "# Usamos el método de Python .index() para hallar y mostrar por pantalla\n",
        "# el índice de la primera aparición de \"cereza\" en la lista 'frutas'.\n",
        "print(\"2. El índice de la primera aparición de \\\"cereza\\\" es:\", frutas.index(\"cereza\"))\n",
        "\n",
        "# Creamos una nueva lista 'ultimas_frutas' que añade cada uno de los items incluidos en la lista 'frutas'\n",
        "# a partir del antepenúltimo elemento hasta el final de la lista y muestra la nueva lista por pantalla.\n",
        "ultimas_frutas = frutas[-3:]\n",
        "print(\"3. Una nueva lista con las 3 últimas frutas sería:\", ultimas_frutas)\n",
        "\n",
        "# Usamos la función de Python sorted() sobre la lista \"frutas\" para ordenar sus items alfabéticamente.\n",
        "# Mostramos el resultado por pantalla sin modificar la lista original.\n",
        "print(\"4. Esta es la lista de frutas ordenada alfabéticamente:\", sorted(frutas))"
      ],
      "metadata": {
        "id": "O6IXXhwrwfEm"
      },
      "id": "O6IXXhwrwfEm",
      "execution_count": null,
      "outputs": []
    },
    {
      "cell_type": "markdown",
      "id": "0cb6b674",
      "metadata": {
        "id": "0cb6b674"
      },
      "source": [
        "\n",
        "### Ejercicio 5  \n",
        "El código que se presenta a continuación no funciona. Corrige los errores y explica, con tus propias palabras, por qué suceden.\n"
      ]
    },
    {
      "cell_type": "markdown",
      "id": "WMc3NNxYJT9F",
      "metadata": {
        "id": "WMc3NNxYJT9F"
      },
      "source": [
        "`datos = \"Alan Mathison Turing\"`\n",
        "\n",
        "`nombre, apellido = datos.split()`\n",
        "\n",
        "`print(nombre)`\n",
        "\n",
        "`print(apellido)`\n",
        "\n",
        "***(0.5 puntos)*** <font color=green>NM</font>"
      ]
    },
    {
      "cell_type": "code",
      "execution_count": null,
      "id": "IxG1pwrZNVCn",
      "metadata": {
        "id": "IxG1pwrZNVCn"
      },
      "outputs": [],
      "source": [
        "# Ejercicio 5\n",
        "\n",
        "# El método de Python .split() separa cada cadena de texto de un string cuando encuentra un espacio en blanco.\n",
        "# En este caso la variable 'datos' contiene 3 cadenas de texto separadas por espacios y\n",
        "# estamos queriendo asignar al resultado de la función solo dos variables: 'nombre' y 'apellido',\n",
        "# por tanto no es capaz de asignar la última cadena a ninguna variable y da error.\n",
        "# Corregimos el error usando una tupla de 3 variables en vez de 2 al invocar el método .split().\n",
        "\n",
        "datos = \"Alan Mathison Turing\"\n",
        "nombre, apellido1, apellido2 = datos.split()\n",
        "print(nombre)\n",
        "print(apellido1)\n",
        "print(apellido2)"
      ]
    },
    {
      "cell_type": "markdown",
      "id": "11ab6e99",
      "metadata": {
        "id": "11ab6e99"
      },
      "source": [
        "\n",
        "### Ejercicio 6  \n",
        "Realiza un programa que cumpla las siguientes condiciones y, siempre que sea posible, utilizando operadores de asignación:  \n",
        "\n",
        "1. Guarda en una variable base el valor 50.  \n",
        "2. Lee por pantalla otro número multiplicador, especifica que sea entre 2 y 5.  \n",
        "3. Multiplica la base por multiplicador y guarda el resultado en la misma variable base.  \n",
        "4. Concatena la frase \"El resultado de la operación es \" con un espacio y el valor de base, y muestra todo el mensaje por pantalla.\n",
        "\n",
        "***(1.5 puntos)*** <font color=green>NM</font>\n"
      ]
    },
    {
      "cell_type": "code",
      "execution_count": null,
      "id": "570ff5e7",
      "metadata": {
        "id": "570ff5e7"
      },
      "outputs": [],
      "source": [
        "# Ejercicio 6\n",
        "\n",
        "# Definimos la variable 'base' y le asignamos el valor 50.\n",
        "base = 50\n",
        "\n",
        "# A continuación definimos la variable 'multiplicador', asignándole un valor\n",
        "# resultante de invocar la función input() que en este caso solicita por pantalla\n",
        "# introducir un número entre 2 y 5. Dicho valor lo guardamos como un entero mediante\n",
        "# la función int(), ya que sino interpretará el valor introducido como un string.\n",
        "multiplicador = int(input(\"Introduce un número comprendido entre 2 y 5: \"))\n",
        "\n",
        "# Mediante el operador de asignación *= calculamos el producto de base * multiplicador,\n",
        "# guardando el resultado en la variable 'base', y mostramos su valor por pantalla.\n",
        "base *= multiplicador\n",
        "print(\"El resultado de multiplicar por 50 el número introducido es\", base)"
      ]
    },
    {
      "cell_type": "markdown",
      "id": "2cf2a830",
      "metadata": {
        "id": "2cf2a830"
      },
      "source": [
        "\n",
        "### Ejercicio 7  \n",
        "Crea un programa que calcule el gasto total y el gasto con descuento en transporte de una persona en un mes.  \n",
        "Pide por teclado:  \n",
        "- Nombre de la persona  \n",
        "- Número de viajes que realiza al mes  \n",
        "- Precio de un billete sencillo  \n",
        "\n",
        "Notas:  \n",
        "1. El gasto total se calcula multiplicando el número de viajes por el precio del billete sencillo.  \n",
        "2. El gasto con abono se calcula aplicando un 25 % de descuento sobre el gasto total.  \n",
        "3. Los valores monetarios deben mostrarse con un solo decimal.  \n",
        "\n",
        "***(1.5 puntos)*** <font color=orange>EG</font>\n"
      ]
    },
    {
      "cell_type": "code",
      "execution_count": null,
      "id": "abb5ca21",
      "metadata": {
        "id": "abb5ca21"
      },
      "outputs": [],
      "source": [
        "# Ejercicio 7. Para este ejercicio he usado la documentación oficial de Python 3.14.0\n",
        "# a través de la web: https://docs.python.org/es/3/library/functions.html#round\n",
        "\n",
        "# Creamos la variable 'nombre' cuyo valor será el resultado introducido al invocar la función input().\n",
        "nombre = input(\"Introduce el nombre del usuario: \")\n",
        "# Creamos la variable 'numero_viajes' cuyo valor será un número entero introducido con la función input().\n",
        "numero_viajes = int(input(\"Introduce el número de viajes que realiza al mes: \"))\n",
        "# Creamos la variable 'precio_billete' cuyo valor será un número decimal introducido con la función input().\n",
        "precio_billete = float(input(\"Introduce el precio de un billete sencillo: \"))\n",
        "\n",
        "# Realizamos el cálculo del gasto total y lo almacenamos en la variable 'gasto_total' como número decimal.\n",
        "# También calculamos el gasto con abono multiplicando por 0.75 (75% del precio total), y lo almacenamos\n",
        "# en la variable 'gasto_abono'. En este caso no es necesario definir la variable como decimal ya que\n",
        "# en el cálculo multiplicamos por un número decimal y el resultado será otro número decimal.\n",
        "gasto_total = float(numero_viajes * precio_billete)\n",
        "gasto_abono = gasto_total * 0.75\n",
        "\n",
        "# Mostramos por pantalla el gasto total y con abono del usuario indicado, y usamos la función de Python\n",
        "# round() para mostrar un solo decimal (ndigits=1) de las variables calculadas.\n",
        "print(\"\\n* El gasto total en transporte de {} es de\".format(nombre), round(gasto_total, ndigits=1))\n",
        "print(\"* El gasto con abono en transporte de {} es de\".format(nombre), round(gasto_abono, ndigits=1))"
      ]
    },
    {
      "cell_type": "markdown",
      "id": "834a651f",
      "metadata": {
        "id": "834a651f"
      },
      "source": [
        "\n",
        "### Ejercicio 8  \n",
        "Queremos llevar un registro de las películas que hemos visto y la valoración que les damos, usando un diccionario donde:  \n",
        "- La llave será el título de la película (sustituyendo los espacios por `_`).  \n",
        "- El valor será la valoración numérica del 0 al 10, con un decimal.  \n",
        "\n",
        "1. ¿Qué variable usarías como llave y cuál como valor si queremos acceder a la información mediante el título de la película? Crea un diccionario con 5 películas y muéstralo por pantalla.  \n",
        "2. Muestra solamente las llaves (los títulos de las películas) del diccionario.  \n",
        "3. Ordena las películas según su valoración de mayor a menor y muéstralas junto con su nota.\n",
        "\n",
        "***(1 punto)*** <font color=green>NM</font>"
      ]
    },
    {
      "cell_type": "code",
      "execution_count": null,
      "id": "f1b9e60b",
      "metadata": {
        "id": "f1b9e60b"
      },
      "outputs": [],
      "source": [
        "# Ejercicio 8. Para este ejercicio he usado la documentación oficial de Python 3.14.0\n",
        "# a través de las siguientes webs:\n",
        "# https://docs.python.org/es/3/library/functions.html#sorted\n",
        "# https://docs.python.org/es/3/tutorial/controlflow.html#for-statements\n",
        "\n",
        "# Como llave del diccionario de peliculas usaria la variable 'titulo_pelicula' y\n",
        "# como valor usaria la variable 'valoracion'.\n",
        "\n",
        "# Primero creamos un diccionario de peliculas con 5 items.\n",
        "peliculas = {\"American_Beauty\": 9.3,\n",
        "             \"Interstellar\": 8.2,\n",
        "             \"Dune\": 7.1,\n",
        "             \"Parásitos\": 9.1,\n",
        "             \"Déjame_salir\": 6.3}\n",
        "\n",
        "# Mostramos por pantalla el diccionario de peliculas que hemos creado.\n",
        "print(\"Diccionario de peliculas: \", peliculas, \"\\n\")\n",
        "\n",
        "# Mostramos mediante la función keys() las llaves del diccionario de peliculas.\n",
        "print(peliculas.keys(),\"\\n\")\n",
        "\n",
        "# Definimos una función llamada 'encontrar_valoracion' que recibe un elemento del diccionario (pelicula)\n",
        "# y devuelve únicamente el valor de dicho elemento (valoración).\n",
        "def encontrar_valoracion(pelicula):\n",
        "    return pelicula[1]\n",
        "\n",
        "# Mostramos un titulo de la lista que se va a mostrar por pantalla.\n",
        "print(\"Listado de peliculas ordenadas según valoración de mayor a menor:\")\n",
        "\n",
        "# Utilizamos la sentencia for con una tupla de variables, que serán la llave y el valor de cada elemento del diccionario.\n",
        "# Usamos la función sorted() para que ordene los items del diccionario por valoración de mayor a menor,\n",
        "# invocando la función 'encontrar_valoracion' para buscar en los valores y mostrar en pantalla de forma ordenada\n",
        "# cada titulo con su correspondiente valoración. También sustituimos con el método .replace()\n",
        "# el carácter \"_\" de los titulos de pelicula por un espacio en blanco.\n",
        "for titulo_pelicula, valoracion in (sorted(peliculas.items(), key=encontrar_valoracion, reverse=True)):\n",
        "    print(titulo_pelicula.replace(\"_\", \" \"), \":\", valoracion)"
      ]
    },
    {
      "cell_type": "markdown",
      "id": "SmtTT_DnBYMj",
      "metadata": {
        "id": "SmtTT_DnBYMj"
      },
      "source": [
        "### Ejercicio Opcional\n",
        "\n",
        "Crea un programa que simule el inventario de un supermercado.\n",
        "1. El programa debe guardar 5 productos en un diccionario, donde la clave sea el nombre del\n",
        "producto y el valor la cantidad disponible en stock.\n",
        "2. Mostrar en pantalla el inventario inicial.\n",
        "3. Pedir al usuario un producto y la cantidad que desea comprar.\n",
        "4. Verificar si hay suficiente stock y, en caso afirmativo, descontar la cantidad del inventario.\n",
        "5. Mostrar el inventario actualizado."
      ]
    },
    {
      "cell_type": "code",
      "execution_count": null,
      "id": "VoBn8NulBykq",
      "metadata": {
        "id": "VoBn8NulBykq"
      },
      "outputs": [],
      "source": [
        "# Ejercicio opcional. Para este ejercicio he usado la documentación oficial de Python 3.14.0\n",
        "# a través de las siguientes webs:\n",
        "# https://docs.python.org/es/3/tutorial/controlflow.html#if-statements\n",
        "# https://docs.python.org/es/3/tutorial/controlflow.html#break-and-continue-statements\n",
        "\n",
        "# Creamos el diccionario llamado 'inventario' con los productos en stock y la cantidad disponible de cada uno.\n",
        "inventario = {\"huevos\" : 14,\n",
        "              \"leche\" : 9,\n",
        "              \"aceite\" : 7,\n",
        "              \"agua\" : 20,\n",
        "              \"yogurt\" : 8}\n",
        "\n",
        "# Definimos una función que recibe como entrada el inventario de productos disponibles en el supermercado\n",
        "# e iterando mediante la sentencia for muestra por pantalla cada producto del inventario y su cantidad disponible.\n",
        "def mostrar_inventario(inventario):\n",
        "    for producto, cantidad in inventario.items():\n",
        "        print(producto + \":\", cantidad)\n",
        "    return\n",
        "\n",
        "# Mostramos por pantalla el inventario inicial llamando a la función 'mostrar_inventario'\n",
        "print(\"# Inventario inicial #\")\n",
        "mostrar_inventario(inventario)\n",
        "\n",
        "# Mediante un bucle while forzamos al usario a pedir un producto existente en inventario.\n",
        "# Pedimos al usuario que introduzca el producto que desea comprar, y mediante la sentencia if comprobamos\n",
        "# si el producto deseado existe en el inventario. En caso de que no exista el producto muestra por pantalla\n",
        "# dicho hecho y vuelve a pedir al usario que introduzca un producto.\n",
        "# Cuando el producto introducido está en el inventario se termina el bucle y continua el programa.\n",
        "while True:\n",
        "    producto = input(\"\\nIntroduzca el producto que desea comprar: \")\n",
        "    if producto in inventario:\n",
        "        break\n",
        "    else:\n",
        "        print(\"El producto introducido no está disponible en nuestro supermercado.\")\n",
        "\n",
        "# Pedimos al usuario la cantidad del producto que desea comprar, usando la función incorporada int()\n",
        "# para que considere la 'cantidad' introducida como un número entero y no una cadena de texto.\n",
        "cantidad = int(input(\"Introduzca la cantidad que desea comprar: \"))\n",
        "\n",
        "# Usamos la sentencia if para comprobar si hay suficiente cantidad del producto en inventario\n",
        "# comparando la cantidad deseada con el valor que tiene dicho producto en el diccionario 'inventario'.\n",
        "# Si hay suficiente stock, descontamos la cantidad deseada del valor del producto y llamamos a la\n",
        "# función 'mostrar_inventario' para mostrar el inventario actualizado.\n",
        "# En el caso de que no haya suficiente stock se avisa al usuario con un mensaje por pantalla.\n",
        "if cantidad <= inventario[producto]:\n",
        "    inventario[producto] -= cantidad\n",
        "    print(\"\\n# Inventario actualizado #\")\n",
        "    mostrar_inventario(inventario)\n",
        "else:\n",
        "    print(\"\\nNo hay suficiente stock del producto introducido.\")"
      ]
    }
  ],
  "metadata": {
    "colab": {
      "provenance": [],
      "include_colab_link": true
    },
    "kernelspec": {
      "display_name": "Python 3 (ipykernel)",
      "language": "python",
      "name": "python3"
    },
    "language_info": {
      "codemirror_mode": {
        "name": "ipython",
        "version": 3
      },
      "file_extension": ".py",
      "mimetype": "text/x-python",
      "name": "python",
      "nbconvert_exporter": "python",
      "pygments_lexer": "ipython3",
      "version": "3.13.2"
    }
  },
  "nbformat": 4,
  "nbformat_minor": 5
}